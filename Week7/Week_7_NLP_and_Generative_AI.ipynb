{
 "cells": [
  {
   "cell_type": "markdown",
   "metadata": {},
   "source": [
    "# Exploring Natural Language Processing (NLP) and Generative AI\n",
    "\n",
    "## Introduction\n",
    "This week, we will examine two fascinating areas of artificial intelligence: **Natural Language Processing (NLP)** and **Generative AI**. NLP focuses on enabling machines to understand and interpret human language, while Generative AI, especially models like GPT, enables machines to generate coherent and meaningful text. We will explore key techniques in NLP using Python's `NLTK` library and then explore how to use and fine-tune **GPT-2**, a popular generative model.\n",
    "\n",
    "---\n",
    "\n",
    "## Learning Objectives\n",
    "By the end of this session, you will be able to:\n",
    "- Understand the basics of NLP and its applications.\n",
    "- Perform essential text preprocessing tasks using NLTK such as tokenization, stop word removal, stemming, and lemmatization.\n",
    "- Use the Bag of Words model to convert text into numerical representations.\n",
    "- Get introduced to **Generative AI** models and learn how to use GPT-2 for text generation.\n",
    "- Fine-tune a GPT-2 model on a custom dataset to generate domain-specific text.\n",
    "\n",
    "---\n",
    "\n",
    "## Section 1: Natural Language Processing (NLP)\n",
    "Run this in the terminal: pip install nltk"
   ]
  },
  {
   "cell_type": "code",
   "execution_count": 8,
   "metadata": {},
   "outputs": [],
   "source": [
    "import nltk\n",
    "import warnings\n",
    "warnings.filterwarnings(\"ignore\", category=FutureWarning)"
   ]
  },
  {
   "cell_type": "code",
   "execution_count": 9,
   "metadata": {},
   "outputs": [],
   "source": [
    "# Sample text\n",
    "text = \"Natural Language Processing is a field of Artificial Intelligence. It enables computers to understand human language.\"\n"
   ]
  },
  {
   "cell_type": "markdown",
   "metadata": {},
   "source": [
    "### 1.1 Tokenization\n",
    "**Tokenization** is the process of breaking down text into individual components such as words or sentences.\n",
    "\n",
    "#### Code Example: Tokenization using NLTK"
   ]
  },
  {
   "cell_type": "code",
   "execution_count": 11,
   "metadata": {},
   "outputs": [
    {
     "data": {
      "text/plain": [
       "True"
      ]
     },
     "execution_count": 11,
     "metadata": {},
     "output_type": "execute_result"
    }
   ],
   "source": [
    "# Tokenize the text\n",
    "nltk.download('punkt_tab', quiet=True)"
   ]
  },
  {
   "cell_type": "code",
   "execution_count": 20,
   "metadata": {},
   "outputs": [],
   "source": [
    "from nltk.tokenize import word_tokenize, sent_tokenize"
   ]
  },
  {
   "cell_type": "code",
   "execution_count": 21,
   "metadata": {},
   "outputs": [
    {
     "name": "stdout",
     "output_type": "stream",
     "text": [
      "Word Tokens: ['Natural', 'Language', 'Processing', 'is', 'a', 'field', 'of', 'Artificial', 'Intelligence', '.', 'It', 'enables', 'computers', 'to', 'understand', 'human', 'language', '.']\n",
      "Sentence Tokens: ['Natural Language Processing is a field of Artificial Intelligence.', 'It enables computers to understand human language.']\n"
     ]
    }
   ],
   "source": [
    "# Word Tokenization\n",
    "word_tokens = word_tokenize(text)\n",
    "print(\"Word Tokens:\", word_tokens)\n",
    "\n",
    "# Sentence Tokenization\n",
    "sent_tokens = sent_tokenize(text)\n",
    "print(\"Sentence Tokens:\", sent_tokens)\n"
   ]
  },
  {
   "cell_type": "markdown",
   "metadata": {},
   "source": [
    "### 1.2 Stop Word Removal\n",
    "**Stop words** are common words like \"the\", \"is\", and \"in\" that may not carry significant meaning and can be removed from the text to focus on the important content.\n",
    "\n",
    "#### Code Example: Removing Stop Words"
   ]
  },
  {
   "cell_type": "code",
   "execution_count": 12,
   "metadata": {},
   "outputs": [
    {
     "data": {
      "text/plain": [
       "True"
      ]
     },
     "execution_count": 12,
     "metadata": {},
     "output_type": "execute_result"
    }
   ],
   "source": [
    "nltk.download('stopwords', quiet=True)"
   ]
  },
  {
   "cell_type": "code",
   "execution_count": 23,
   "metadata": {},
   "outputs": [],
   "source": [
    "from nltk.corpus import stopwords"
   ]
  },
  {
   "cell_type": "code",
   "execution_count": 24,
   "metadata": {},
   "outputs": [],
   "source": [
    "# Define stop words\n",
    "stop_words = set(stopwords.words('english'))"
   ]
  },
  {
   "cell_type": "code",
   "execution_count": null,
   "metadata": {},
   "outputs": [
    {
     "name": "stdout",
     "output_type": "stream",
     "text": [
      "Stop words in English are: \n",
      "\n",
      "{'shouldn', 'all', 'an', 'so', 've', 'nor', 'on', 'her', 'were', 'doesn', 'have', 'to', 'my', 'itself', 'did', 'both', 'of', 're', 'that', 'didn', 'this', \"isn't\", 'while', 'most', \"aren't\", 'm', 'but', 'out', 'couldn', 'myself', 'hasn', 'theirs', 'should', 'had', 'over', 'yourselves', 'through', \"couldn't\", 'shan', 'after', 'few', 'no', \"don't\", 'can', 'wasn', 'what', 'above', \"mustn't\", 'than', 'because', 'me', 'their', 'again', 'are', \"you've\", 'a', 'very', 'ourselves', 'not', 'when', 'then', 'isn', 'some', 'she', 'i', 'it', 'weren', 'with', 'being', 'mightn', 'for', 'below', 'd', 'only', \"won't\", 'or', 'don', 'too', \"doesn't\", \"that'll\", \"hadn't\", 'doing', 'mustn', 'won', 'is', 't', 'ma', 'its', 'the', 'off', 'further', \"wouldn't\", 'him', 'aren', 'where', 'them', 'any', 'at', \"wasn't\", 'as', 'during', 'will', \"you'll\", 'yourself', 'needn', 'in', 'here', \"should've\", 'having', 'until', 'who', 'by', 'wouldn', 'do', 'whom', 'you', 'now', 'has', 'between', 'haven', \"mightn't\", 'into', 'yours', 'before', 'down', 'each', 'o', 'been', 'our', 'how', 'which', 'if', 'his', 'other', 'we', 'own', 'was', 'they', \"you're\", 'under', 'same', 'against', 'he', 'why', \"needn't\", 'herself', \"weren't\", \"shan't\", 'from', 'there', 'about', 'himself', 'such', \"you'd\", 'll', 'once', 'hadn', \"didn't\", \"haven't\", \"it's\", 'ours', 'y', \"hasn't\", 'up', 'does', \"she's\", 'those', \"shouldn't\", 'these', 'hers', 'and', 'your', 'am', 's', 'just', 'themselves', 'more', 'be', 'ain'}\n"
     ]
    }
   ],
   "source": [
    "print(\"Stop words in English are: \\n\")\n",
    "print(stop_words)"
   ]
  },
  {
   "cell_type": "code",
   "execution_count": 25,
   "metadata": {},
   "outputs": [
    {
     "name": "stdout",
     "output_type": "stream",
     "text": [
      "Filtered Words: ['Natural', 'Language', 'Processing', 'field', 'Artificial', 'Intelligence', '.', 'enables', 'computers', 'understand', 'human', 'language', '.']\n"
     ]
    }
   ],
   "source": [
    "# Filter out stop words from word tokens\n",
    "filtered_words = [word for word in word_tokens if word.lower() not in stop_words]\n",
    "print(\"Filtered Words:\", filtered_words)"
   ]
  },
  {
   "cell_type": "markdown",
   "metadata": {},
   "source": [
    "### 1.3 Stemming and Lemmatization\n",
    "Stemming is the process of reducing words to their base form, while Lemmatization ensures that the reduced form is a valid word.\n",
    "\n",
    "#### Code Example: Stemming and Lemmatization"
   ]
  },
  {
   "cell_type": "code",
   "execution_count": 13,
   "metadata": {},
   "outputs": [
    {
     "data": {
      "text/plain": [
       "True"
      ]
     },
     "execution_count": 13,
     "metadata": {},
     "output_type": "execute_result"
    }
   ],
   "source": [
    "from nltk.stem import PorterStemmer, WordNetLemmatizer\n",
    "nltk.download('wordnet', quiet=True)"
   ]
  },
  {
   "cell_type": "code",
   "execution_count": 29,
   "metadata": {},
   "outputs": [],
   "source": [
    "# Initialize stemmer and lemmatizer\n",
    "ps = PorterStemmer()\n",
    "lemmatizer = WordNetLemmatizer()"
   ]
  },
  {
   "cell_type": "code",
   "execution_count": 30,
   "metadata": {},
   "outputs": [
    {
     "name": "stdout",
     "output_type": "stream",
     "text": [
      "Stemmed Words: ['natur', 'languag', 'process', 'field', 'artifici', 'intellig', '.', 'enabl', 'comput', 'understand', 'human', 'languag', '.']\n"
     ]
    }
   ],
   "source": [
    "# Stemming\n",
    "stemmed_words = [ps.stem(word) for word in filtered_words]\n",
    "print(\"Stemmed Words:\", stemmed_words)"
   ]
  },
  {
   "cell_type": "code",
   "execution_count": 31,
   "metadata": {},
   "outputs": [
    {
     "name": "stdout",
     "output_type": "stream",
     "text": [
      "Lemmatized Words: ['Natural', 'Language', 'Processing', 'field', 'Artificial', 'Intelligence', '.', 'enables', 'computer', 'understand', 'human', 'language', '.']\n"
     ]
    }
   ],
   "source": [
    "# Lemmatization\n",
    "lemmatized_words = [lemmatizer.lemmatize(word) for word in filtered_words]\n",
    "print(\"Lemmatized Words:\", lemmatized_words)"
   ]
  },
  {
   "cell_type": "markdown",
   "metadata": {},
   "source": [
    "### 1.4. Part of Speech (POS) Tagging\n",
    "**Part of Speech (POS) tagging** involves labeling words in a sentence as nouns, verbs, adjectives, etc., based on their context and definition.\n",
    "\n",
    "#### Code Example: POS Tagging"
   ]
  },
  {
   "cell_type": "code",
   "execution_count": 14,
   "metadata": {},
   "outputs": [
    {
     "data": {
      "text/plain": [
       "True"
      ]
     },
     "execution_count": 14,
     "metadata": {},
     "output_type": "execute_result"
    }
   ],
   "source": [
    "nltk.download('averaged_perceptron_tagger_eng', quiet=True)"
   ]
  },
  {
   "cell_type": "code",
   "execution_count": 36,
   "metadata": {},
   "outputs": [],
   "source": [
    "from nltk import pos_tag"
   ]
  },
  {
   "cell_type": "code",
   "execution_count": 38,
   "metadata": {},
   "outputs": [
    {
     "name": "stdout",
     "output_type": "stream",
     "text": [
      "POS Tags: [('Natural', 'JJ'), ('Language', 'NNP'), ('Processing', 'NNP'), ('is', 'VBZ'), ('a', 'DT'), ('field', 'NN'), ('of', 'IN'), ('Artificial', 'JJ'), ('Intelligence', 'NNP'), ('.', '.'), ('It', 'PRP'), ('enables', 'VBZ'), ('computers', 'NNS'), ('to', 'TO'), ('understand', 'VB'), ('human', 'JJ'), ('language', 'NN'), ('.', '.')]\n"
     ]
    }
   ],
   "source": [
    "pos_tags = pos_tag(word_tokens)\n",
    "print(\"POS Tags:\", pos_tags)"
   ]
  },
  {
   "cell_type": "markdown",
   "metadata": {},
   "source": [
    "### 1.5. Frequency Distribution\n",
    "**Frequency distribution** is a statistical technique that shows how often different values occur in a dataset.\n",
    "\n",
    "#### Code Example: Frequency Distribution"
   ]
  },
  {
   "cell_type": "code",
   "execution_count": 39,
   "metadata": {},
   "outputs": [
    {
     "name": "stdout",
     "output_type": "stream",
     "text": [
      "Frequency Distribution: <FreqDist with 17 samples and 18 outcomes>\n"
     ]
    }
   ],
   "source": [
    "from nltk.probability import FreqDist\n",
    "\n",
    "fd = FreqDist(word_tokens)\n",
    "print(\"Frequency Distribution:\", fd)"
   ]
  },
  {
   "cell_type": "code",
   "execution_count": 40,
   "metadata": {},
   "outputs": [
    {
     "data": {
      "image/png": "[encoded data removed]",
      "text/plain": [
       "<Figure size 640x480 with 1 Axes>"
      ]
     },
     "metadata": {},
     "output_type": "display_data"
    }
   ],
   "source": [
    "import matplotlib.pyplot as plt\n",
    "\n",
    "fd.plot(30, cumulative=False)\n",
    "plt.show()"
   ]
  },
  {
   "cell_type": "code",
   "execution_count": 42,
   "metadata": {},
   "outputs": [
    {
     "data": {
      "image/png": "[encoded data removed]",
      "text/plain": [
       "<Figure size 640x480 with 1 Axes>"
      ]
     },
     "metadata": {},
     "output_type": "display_data"
    }
   ],
   "source": [
    "fd_alpha = FreqDist(text)\n",
    "fd_alpha.plot(30, cumulative=False)\n",
    "plt.show()"
   ]
  },
  {
   "cell_type": "markdown",
   "metadata": {},
   "source": [
    "### 1.6. Bag of Words Model\n",
    "The **Bag of Words (BoW)** model is used to convert text data into numerical form that can be used in machine learning models.\n",
    "\n",
    "#### Code Example: Bag of Words Model using CountVectorizer"
   ]
  },
  {
   "cell_type": "code",
   "execution_count": 43,
   "metadata": {},
   "outputs": [],
   "source": [
    "from sklearn.feature_extraction.text import CountVectorizer\n",
    "\n",
    "# Sample corpus\n",
    "corpus = [\"NLP is fun\", \"Learning machine learning is great\", \"AI and NLP are the future\"]\n"
   ]
  },
  {
   "cell_type": "code",
   "execution_count": 44,
   "metadata": {},
   "outputs": [],
   "source": [
    "# Initialize count vectorizer\n",
    "vectorizer = CountVectorizer()\n",
    "X = vectorizer.fit_transform(corpus)"
   ]
  },
  {
   "cell_type": "code",
   "execution_count": 45,
   "metadata": {},
   "outputs": [
    {
     "name": "stdout",
     "output_type": "stream",
     "text": [
      "Bag of Words Representation:\n",
      " [[0 0 0 1 0 0 1 0 0 1 0]\n",
      " [0 0 0 0 0 1 1 2 1 0 0]\n",
      " [1 1 1 0 1 0 0 0 0 1 1]]\n"
     ]
    }
   ],
   "source": [
    "# Convert to array\n",
    "print(\"Bag of Words Representation:\\n\", X.toarray())"
   ]
  },
  {
   "cell_type": "code",
   "execution_count": 46,
   "metadata": {},
   "outputs": [
    {
     "name": "stdout",
     "output_type": "stream",
     "text": [
      "Feature Names: ['ai' 'and' 'are' 'fun' 'future' 'great' 'is' 'learning' 'machine' 'nlp'\n",
      " 'the']\n"
     ]
    }
   ],
   "source": [
    "# Display the feature names\n",
    "print(\"Feature Names:\", vectorizer.get_feature_names_out())"
   ]
  },
  {
   "cell_type": "markdown",
   "metadata": {},
   "source": [
    "## Section 2: Introduction to Generative AI Models\n",
    "### 2.1. What is Generative AI?\n",
    "**Generative AI** models can generate new data, such as images, music, or text, based on patterns learned from existing data. These models can be used for creative tasks like text generation, image synthesis, and more.\n",
    "\n",
    "Neural network works on the core of generative AI. It is a network of nodes that are interconnected and work together to process complex data inputs and generate outputs. Generative AI models like GPT-2 use neural networks to generate human-like text.\n",
    "\n",
    "### Career Impacts of Generative AI\n",
    "Generative AI has a wide range of applications in various industries, including:\n",
    "- **Content Creation**: Generating text, images, and videos.\n",
    "- **Chatbots and Virtual Assistants**: Creating conversational agents.\n",
    "- **Art and Design**: Generating creative content.\n",
    "- **Healthcare**: Analyzing medical data and generating reports.\n",
    "- **Finance**: Analyzing financial data and generating insights.\n",
    "\n",
    "### Generative AI vs. NLP\n",
    "While NLP focuses on understanding and interpreting human language, Generative AI models like GPT-2 can generate human-like text based on patterns learned from large datasets.\n",
    "\n",
    "\n",
    "### 2.2. Deep Dive into Generative AI Models\n",
    "**Generative Pre-trained Transformer 2 (GPT-2)** is a powerful generative AI model developed by OpenAI. It is based on a transformer architecture and has been trained on a large corpus of text data to generate coherent and contextually relevant text.\n",
    "\n",
    "Transformer-based models are scalable and can capture long-range dependencies in text data, making them suitable for a wide range of natural language processing tasks.\n",
    "\n",
    "### 2.3. Keeping Up with the Latest in Generative AI\n",
    "Generative AI is a rapidly evolving field, with new models and techniques being developed regularly. Staying up-to-date with the latest research and advancements in generative AI can help you leverage these technologies for various applications.\n",
    "\n",
    "- Join online communities and forums related to generative AI.\n",
    "- Follow research papers and publications in the field.\n",
    "- Experiment with different generative AI models and frameworks.\n",
    "- Collaborate with other AI enthusiasts and researchers to explore new ideas and projects.\n",
    "- Attend conferences, workshops, and webinars on generative AI.\n",
    "- Participate in hackathons and competitions to apply generative AI techniques to real-world problems.\n",
    "- LinkedIn Learning and Coursera offer courses on generative AI and NLP.\n",
    "\n",
    "### 2.4. Using GPT-2 for Text Generation\n",
    "GPT-2 is a versatile model that can be fine-tuned on custom datasets to generate domain-specific text. By providing GPT-2 with relevant training data, you can create a text generation model that produces contextually relevant and coherent text in a specific domain.\n",
    "\n",
    "Huggingface Transformers library provides easy-to-use interfaces for working with GPT-2 and other transformer-based models.\n",
    "\n",
    "#### Code Example: Using GPT-2 for Text Generation\n",
    "pip install transformers\n",
    "pip install ipywidgets\n",
    "\n",
    "GPT2LMHeadModel requires the PyTorch library but it was not found in your environment. Checkout the instructions on the\n",
    "installation page: https://pytorch.org/get-started/locally/ and follow the ones that match your environment.\n",
    "Please note that you may need to restart your runtime after installation.\n",
    "pip install torch torchvision torchaudio --index-url https://download.pytorch.org/whl/cu118\n"
   ]
  },
  {
   "cell_type": "code",
   "execution_count": 5,
   "metadata": {},
   "outputs": [],
   "source": [
    "import warnings\n",
    "from transformers import GPT2LMHeadModel, GPT2Tokenizer\n",
    "\n",
    "warnings.filterwarnings(\"ignore\", category=FutureWarning)\n",
    "\n",
    "# Load the tokenizer and pre-trained GPT-2 model\n",
    "model_name = 'gpt2'  # or 'gpt2-medium', 'gpt2-large', etc.\n",
    "tokenizer = GPT2Tokenizer.from_pretrained(model_name)\n",
    "model = GPT2LMHeadModel.from_pretrained(model_name)"
   ]
  },
  {
   "cell_type": "code",
   "execution_count": 6,
   "metadata": {},
   "outputs": [
    {
     "name": "stdout",
     "output_type": "stream",
     "text": [
      "Generated Text:\n",
      " Artificial Intelligence is a new field of research that has been gaining traction in recent years. It is now being used to develop new technologies for the production of artificial intelligence.\n",
      "\n",
      "The research is being conducted by the University of California, Berkeley, and the National Institute of Standards and Technology (NIST).\n",
      ". The research was funded by a grant from the NIST.\n"
     ]
    }
   ],
   "source": [
    "tokenizer.pad_token_id = tokenizer.eos_token_id\n",
    "\n",
    "# Input text\n",
    "input_text = \"Artificial Intelligence is\"\n",
    "\n",
    "# Tokenize and encode input text\n",
    "inputs = tokenizer.encode(input_text, return_tensors=\"pt\")\n",
    "\n",
    "attention_mask = inputs.ne(tokenizer.pad_token_id).long()\n",
    "\n",
    "# Generate text using GPT-2\n",
    "output = model.generate(inputs, max_length=100, no_repeat_ngram_size=2, num_return_sequences=1, pad_token_id = tokenizer.eos_token_id)\n",
    "generated_text = tokenizer.decode(output[0], skip_special_tokens=True)\n",
    "\n",
    "print(\"Generated Text:\\n\", generated_text)\n"
   ]
  },
  {
   "cell_type": "code",
   "execution_count": 7,
   "metadata": {},
   "outputs": [
    {
     "name": "stderr",
     "output_type": "stream",
     "text": [
      "No model was supplied, defaulted to distilbert/distilbert-base-uncased-finetuned-sst-2-english and revision 714eb0f (https://huggingface.co/distilbert/distilbert-base-uncased-finetuned-sst-2-english).\n",
      "Using a pipeline without specifying a model name and revision in production is not recommended.\n",
      "Hardware accelerator e.g. GPU is available in the environment, but no `device` argument is passed to the `Pipeline` object. Model will be on CPU.\n"
     ]
    },
    {
     "name": "stdout",
     "output_type": "stream",
     "text": [
      "Sentiment Analysis Result: [{'label': 'POSITIVE', 'score': 0.9997734427452087}]\n"
     ]
    }
   ],
   "source": [
    "from transformers import pipeline\n",
    "\n",
    "# Load the sentiment analysis pipeline\n",
    "sentiment_analysis = pipeline(\"sentiment-analysis\")\n",
    "\n",
    "# Analyze sentiment\n",
    "text = \"I love the new iPhone\"\n",
    "result = sentiment_analysis(text)\n",
    "print(\"Sentiment Analysis Result:\", result)"
   ]
  },
  {
   "cell_type": "markdown",
   "metadata": {},
   "source": [
    "## Conclusion\n",
    "\n",
    "In this week's session, we explored the fundamentals of Natural Language Processing (NLP), covering essential tasks like tokenization, stop word removal, stemming, lemmatization, and the Bag of Words model. We also introduced Generative AI using GPT-2, demonstrating how to generate text. You can explore how to fine-tune the model on a custom dataset.\n",
    "\n",
    "By the end of this week, you should have a solid understanding of how to process and analyze textual data using NLP techniques and how to generate new text using GPT-2. This knowledge is key to building advanced AI applications in domains like chatbots, text summarization, and content generation."
   ]
  }
 ],
 "metadata": {
  "kernelspec": {
   "display_name": "Python 3",
   "language": "python",
   "name": "python3"
  },
  "language_info": {
   "codemirror_mode": {
    "name": "ipython",
    "version": 3
   },
   "file_extension": ".py",
   "mimetype": "text/x-python",
   "name": "python",
   "nbconvert_exporter": "python",
   "pygments_lexer": "ipython3",
   "version": "3.12.6"
  }
 },
 "nbformat": 4,
 "nbformat_minor": 2
}
