{
 "cells": [
  {
   "cell_type": "markdown",
   "metadata": {},
   "source": [
    "Run the following Python code to split the dataset into training and testing sets. What is the accuracy of the classifier on the test set? (Use random seed = 42)"
   ]
  },
  {
   "cell_type": "code",
   "execution_count": 2,
   "metadata": {},
   "outputs": [
    {
     "name": "stdout",
     "output_type": "stream",
     "text": [
      "Accuracy: 0.9777777777777777\n"
     ]
    }
   ],
   "source": [
    "import numpy as np\n",
    "from sklearn.datasets import load_iris\n",
    "from sklearn.model_selection import train_test_split\n",
    "from sklearn.tree import DecisionTreeClassifier\n",
    "\n",
    "# Load dataset\n",
    "iris = load_iris()\n",
    "X, y = iris.data, iris.target\n",
    "\n",
    "# Split dataset\n",
    "X_train, X_test, y_train, y_test = train_test_split(X, y, test_size=0.3, random_state=42)\n",
    "\n",
    "# Train a Decision Tree\n",
    "model = DecisionTreeClassifier(random_state=42)\n",
    "model.fit(X_train, y_train)\n",
    "\n",
    "# Evaluate model\n",
    "accuracy = model.score(X_test, y_test)\n",
    "print(\"Accuracy:\", accuracy)\n"
   ]
  },
  {
   "cell_type": "markdown",
   "metadata": {},
   "source": [
    "Write a Python code to perform K-Means clustering on the following dataset. Use a random seed of 50 and number of clusters = 3. What are the cluster centers?"
   ]
  },
  {
   "cell_type": "code",
   "execution_count": 11,
   "metadata": {},
   "outputs": [
    {
     "name": "stdout",
     "output_type": "stream",
     "text": [
      "Cluster Centers: [[0.1968126  0.48053706]\n",
      " [0.70233438 0.79859285]\n",
      " [0.66173405 0.21879851]]\n"
     ]
    }
   ],
   "source": [
    "import numpy as np\n",
    "from sklearn.cluster import KMeans\n",
    "\n",
    "# Generate dataset\n",
    "np.random.seed(100)\n",
    "X = np.random.rand(100, 2)\n",
    "\n",
    "# Perform K-Means\n",
    "kmeans = KMeans(n_clusters=3, random_state=50)\n",
    "kmeans.fit(X)\n",
    "\n",
    "# Get cluster centers\n",
    "centers = kmeans.cluster_centers_\n",
    "print(\"Cluster Centers:\", centers)\n"
   ]
  },
  {
   "cell_type": "markdown",
   "metadata": {},
   "source": [
    "Using the dataset provided below, compute the Silhouette score after performing K-Means clustering. Use 3 clusters and a random seed of 2 for reproducibility. What is the Silhouette score, and how would you interpret it based on the general rule of thumb?"
   ]
  },
  {
   "cell_type": "code",
   "execution_count": 21,
   "metadata": {},
   "outputs": [
    {
     "name": "stdout",
     "output_type": "stream",
     "text": [
      "Silhouette Score: 0.5732710015800855\n"
     ]
    }
   ],
   "source": [
    "import numpy as np\n",
    "from sklearn.datasets import make_blobs\n",
    "from sklearn.cluster import KMeans\n",
    "from sklearn.metrics import silhouette_score\n",
    "\n",
    "# Generate synthetic data\n",
    "X, _ = make_blobs(n_samples=300, centers=3, cluster_std=1.0, random_state=2)\n",
    "\n",
    "# Perform K-Means clustering\n",
    "kmeans = KMeans(n_clusters=3, random_state=42)\n",
    "labels = kmeans.fit_predict(X)\n",
    "\n",
    "# Calculate Silhouette score\n",
    "sil_score = silhouette_score(X, labels)\n",
    "print(\"Silhouette Score:\", sil_score)\n"
   ]
  },
  {
   "cell_type": "markdown",
   "metadata": {},
   "source": [
    "\n",
    "### Interpretation\n",
    "Interpret the score using the rule of thumb:  \n",
    "- Silhouette score above 0.5 → good clustering  \n",
    "- Silhouette score between 0.25 and 0.5 → fair clustering  \n",
    "- Silhouette score below 0.25 → poor clustering  \n",
    "\n",
    "A Silhouette score of 0.573 indicates a good clustering. Since it is above 0.5, the clusters are reasonably well-separated and compact, though not as optimal as in the case of a higher score (e.g., above 0.7). The data points within each cluster are relatively similar to each other, and there is some distinction between different clusters, but there may be slight overlap or less cohesion between certain clusters.\n",
    "\n",
    "This clustering can still be considered effective but may benefit from further refinement."
   ]
  }
 ],
 "metadata": {
  "kernelspec": {
   "display_name": "Python 3",
   "language": "python",
   "name": "python3"
  },
  "language_info": {
   "codemirror_mode": {
    "name": "ipython",
    "version": 3
   },
   "file_extension": ".py",
   "mimetype": "text/x-python",
   "name": "python",
   "nbconvert_exporter": "python",
   "pygments_lexer": "ipython3",
   "version": "3.12.6"
  }
 },
 "nbformat": 4,
 "nbformat_minor": 2
}
